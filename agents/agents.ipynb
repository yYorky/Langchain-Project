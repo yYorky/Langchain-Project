{
 "cells": [
  {
   "cell_type": "code",
   "execution_count": 1,
   "metadata": {},
   "outputs": [
    {
     "name": "stdout",
     "output_type": "stream",
     "text": [
      "Requirement already satisfied: arxiv in c:\\users\\york yong\\onedrive - singapore management university\\desktop\\langchain project\\venv\\lib\\site-packages (2.1.0)\n",
      "Requirement already satisfied: feedparser==6.0.10 in c:\\users\\york yong\\onedrive - singapore management university\\desktop\\langchain project\\venv\\lib\\site-packages (from arxiv) (6.0.10)\n",
      "Requirement already satisfied: requests==2.31.0 in c:\\users\\york yong\\onedrive - singapore management university\\desktop\\langchain project\\venv\\lib\\site-packages (from arxiv) (2.31.0)\n",
      "Requirement already satisfied: sgmllib3k in c:\\users\\york yong\\onedrive - singapore management university\\desktop\\langchain project\\venv\\lib\\site-packages (from feedparser==6.0.10->arxiv) (1.0.0)\n",
      "Requirement already satisfied: charset-normalizer<4,>=2 in c:\\users\\york yong\\onedrive - singapore management university\\desktop\\langchain project\\venv\\lib\\site-packages (from requests==2.31.0->arxiv) (3.3.2)\n",
      "Requirement already satisfied: idna<4,>=2.5 in c:\\users\\york yong\\onedrive - singapore management university\\desktop\\langchain project\\venv\\lib\\site-packages (from requests==2.31.0->arxiv) (3.7)\n",
      "Requirement already satisfied: urllib3<3,>=1.21.1 in c:\\users\\york yong\\onedrive - singapore management university\\desktop\\langchain project\\venv\\lib\\site-packages (from requests==2.31.0->arxiv) (2.2.1)\n",
      "Requirement already satisfied: certifi>=2017.4.17 in c:\\users\\york yong\\onedrive - singapore management university\\desktop\\langchain project\\venv\\lib\\site-packages (from requests==2.31.0->arxiv) (2024.2.2)\n"
     ]
    }
   ],
   "source": [
    "!pip install arxiv"
   ]
  },
  {
   "cell_type": "code",
   "execution_count": 2,
   "metadata": {},
   "outputs": [],
   "source": [
    "from langchain_community.tools import WikipediaQueryRun\n",
    "from langchain_community.utilities import WikipediaAPIWrapper"
   ]
  },
  {
   "cell_type": "code",
   "execution_count": 3,
   "metadata": {},
   "outputs": [],
   "source": [
    "api_wrapper=WikipediaAPIWrapper(top_k_results=1,doc_content_chars_max=200)\n",
    "wiki=WikipediaQueryRun(api_wrapper=api_wrapper)"
   ]
  },
  {
   "cell_type": "code",
   "execution_count": 4,
   "metadata": {},
   "outputs": [
    {
     "data": {
      "text/plain": [
       "'wikipedia'"
      ]
     },
     "execution_count": 4,
     "metadata": {},
     "output_type": "execute_result"
    }
   ],
   "source": [
    "wiki.name"
   ]
  },
  {
   "cell_type": "code",
   "execution_count": 7,
   "metadata": {},
   "outputs": [
    {
     "data": {
      "text/plain": [
       "VectorStoreRetriever(tags=['FAISS', 'OllamaEmbeddings'], vectorstore=<langchain_community.vectorstores.faiss.FAISS object at 0x000001E1C7C98640>)"
      ]
     },
     "execution_count": 7,
     "metadata": {},
     "output_type": "execute_result"
    }
   ],
   "source": [
    "from langchain_community.document_loaders import WebBaseLoader\n",
    "from langchain_community.vectorstores import FAISS\n",
    "from langchain_community.embeddings import OllamaEmbeddings\n",
    "from langchain_text_splitters import RecursiveCharacterTextSplitter\n",
    "import bs4\n",
    "\n",
    "loader=WebBaseLoader(web_paths=(\"https://game8.co/games/Pokemon-Scarlet-Violet/\",),\n",
    "                     bs_kwargs=dict(parse_only=bs4.SoupStrainer(\n",
    "                         class_=(\"p-gameHeader\",\"l-content\")\n",
    "\n",
    "                     )))\n",
    "\n",
    "docs=loader.load()\n",
    "documents=RecursiveCharacterTextSplitter(chunk_size=500,chunk_overlap=100).split_documents(docs)\n",
    "vectordb=FAISS.from_documents(documents[:30], OllamaEmbeddings(model=\"llama3\"))\n",
    "retriever=vectordb.as_retriever()\n",
    "retriever"
   ]
  },
  {
   "cell_type": "code",
   "execution_count": 149,
   "metadata": {},
   "outputs": [],
   "source": [
    "from langchain.tools.retriever import create_retriever_tool\n",
    "retriever_tool=create_retriever_tool(retriever,\"Pokemon_search\",\n",
    "                      \"Search for information about Pokemon-Scarlet-Violet. For any questions about Pokemon-Scarlet-Violet, you must use this tool!\")"
   ]
  },
  {
   "cell_type": "code",
   "execution_count": 150,
   "metadata": {},
   "outputs": [
    {
     "data": {
      "text/plain": [
       "'Pokemon_search'"
      ]
     },
     "execution_count": 150,
     "metadata": {},
     "output_type": "execute_result"
    }
   ],
   "source": [
    "retriever_tool.name"
   ]
  },
  {
   "cell_type": "code",
   "execution_count": 151,
   "metadata": {},
   "outputs": [
    {
     "data": {
      "text/plain": [
       "'arxiv'"
      ]
     },
     "execution_count": 151,
     "metadata": {},
     "output_type": "execute_result"
    }
   ],
   "source": [
    "## Arxiv Tool\n",
    "from langchain_community.utilities import ArxivAPIWrapper\n",
    "from langchain_community.tools import ArxivQueryRun\n",
    "\n",
    "arxiv_wrapper=ArxivAPIWrapper(top_k_results=1, doc_content_chars_max=200)\n",
    "arxiv=ArxivQueryRun(api_wrapper=arxiv_wrapper)\n",
    "arxiv.name"
   ]
  },
  {
   "cell_type": "code",
   "execution_count": 170,
   "metadata": {},
   "outputs": [],
   "source": [
    "tools=[wiki,\n",
    "       arxiv,\n",
    "       retriever_tool\n",
    "       ]"
   ]
  },
  {
   "cell_type": "code",
   "execution_count": 171,
   "metadata": {},
   "outputs": [
    {
     "data": {
      "text/plain": [
       "[WikipediaQueryRun(api_wrapper=WikipediaAPIWrapper(wiki_client=<module 'wikipedia' from 'c:\\\\Users\\\\York Yong\\\\OneDrive - Singapore Management University\\\\Desktop\\\\Langchain Project\\\\venv\\\\lib\\\\site-packages\\\\wikipedia\\\\__init__.py'>, top_k_results=1, lang='en', load_all_available_meta=False, doc_content_chars_max=200)),\n",
       " ArxivQueryRun(api_wrapper=ArxivAPIWrapper(arxiv_search=<class 'arxiv.Search'>, arxiv_exceptions=(<class 'arxiv.ArxivError'>, <class 'arxiv.UnexpectedEmptyPageError'>, <class 'arxiv.HTTPError'>), top_k_results=1, ARXIV_MAX_QUERY_LENGTH=300, continue_on_failure=False, load_max_docs=100, load_all_available_meta=False, doc_content_chars_max=200, arxiv_result=<class 'arxiv.Result'>)),\n",
       " Tool(name='Pokemon_search', description='Search for information about Pokemon-Scarlet-Violet. For any questions about Pokemon-Scarlet-Violet, you must use this tool!', args_schema=<class 'langchain_core.tools.RetrieverInput'>, func=functools.partial(<function _get_relevant_documents at 0x000001E117D06050>, retriever=VectorStoreRetriever(tags=['FAISS', 'OllamaEmbeddings'], vectorstore=<langchain_community.vectorstores.faiss.FAISS object at 0x000001E1C7C98640>), document_prompt=PromptTemplate(input_variables=['page_content'], template='{page_content}'), document_separator='\\n\\n'), coroutine=functools.partial(<function _aget_relevant_documents at 0x000001E117D06200>, retriever=VectorStoreRetriever(tags=['FAISS', 'OllamaEmbeddings'], vectorstore=<langchain_community.vectorstores.faiss.FAISS object at 0x000001E1C7C98640>), document_prompt=PromptTemplate(input_variables=['page_content'], template='{page_content}'), document_separator='\\n\\n'))]"
      ]
     },
     "execution_count": 171,
     "metadata": {},
     "output_type": "execute_result"
    }
   ],
   "source": [
    "tools"
   ]
  },
  {
   "cell_type": "code",
   "execution_count": 172,
   "metadata": {},
   "outputs": [
    {
     "name": "stderr",
     "output_type": "stream",
     "text": [
      "Python-dotenv could not parse statement starting at line 1\n",
      "Python-dotenv could not parse statement starting at line 5\n"
     ]
    }
   ],
   "source": [
    "from dotenv import load_dotenv\n",
    "\n",
    "load_dotenv()\n",
    "import os\n",
    "\n",
    "from langchain_groq import ChatGroq\n",
    "\n",
    "groq_api_key=os.environ['GROQ_API_KEY']\n",
    "\n",
    "llm=ChatGroq(groq_api_key=groq_api_key,\n",
    "         model_name=\"mixtral-8x7b-32768\")"
   ]
  },
  {
   "cell_type": "code",
   "execution_count": 173,
   "metadata": {},
   "outputs": [
    {
     "name": "stdout",
     "output_type": "stream",
     "text": [
      "True\n"
     ]
    }
   ],
   "source": [
    "print(hasattr(llm, \"bind_tools\"))"
   ]
  },
  {
   "cell_type": "code",
   "execution_count": 174,
   "metadata": {},
   "outputs": [],
   "source": [
    "# from langchain import hub\n",
    "# # Get the prompt to use - you can modify this!\n",
    "# prompt = hub.pull(\"rlm/rag-prompt-llama\")\n",
    "# prompt.messages\n"
   ]
  },
  {
   "cell_type": "code",
   "execution_count": 175,
   "metadata": {},
   "outputs": [
    {
     "data": {
      "text/plain": [
       "[SystemMessagePromptTemplate(prompt=PromptTemplate(input_variables=[], template='You are an assistant for question-answering tasks.')),\n",
       " MessagesPlaceholder(variable_name='chat_history', optional=True),\n",
       " HumanMessagePromptTemplate(prompt=PromptTemplate(input_variables=['input'], template='{input}')),\n",
       " MessagesPlaceholder(variable_name='agent_scratchpad', optional=True)]"
      ]
     },
     "execution_count": 175,
     "metadata": {},
     "output_type": "execute_result"
    }
   ],
   "source": [
    "from langchain_core.prompts import ChatPromptTemplate\n",
    "\n",
    "prompt = ChatPromptTemplate.from_messages(\n",
    "    [\n",
    "        (\n",
    "            \"system\",\n",
    "            \"You are an assistant for question-answering tasks.\",\n",
    "        ),\n",
    "        (\"placeholder\", \"{chat_history}\"),\n",
    "        (\"human\", \"{input}\"),\n",
    "        (\"placeholder\", \"{agent_scratchpad}\"),\n",
    "    ]\n",
    ")\n",
    "\n",
    "prompt.messages\n"
   ]
  },
  {
   "cell_type": "code",
   "execution_count": 183,
   "metadata": {},
   "outputs": [],
   "source": [
    "### Agents\n",
    "from langchain.agents import create_tool_calling_agent\n",
    "agent=create_tool_calling_agent(llm, tools, prompt)\n"
   ]
  },
  {
   "cell_type": "code",
   "execution_count": 193,
   "metadata": {},
   "outputs": [
    {
     "data": {
      "text/plain": [
       "AgentExecutor(verbose=True, agent=RunnableMultiActionAgent(runnable=RunnableAssign(mapper={\n",
       "  agent_scratchpad: RunnableLambda(lambda x: format_to_tool_messages(x['intermediate_steps']))\n",
       "})\n",
       "| ChatPromptTemplate(input_variables=['input'], input_types={'chat_history': typing.List[typing.Union[langchain_core.messages.ai.AIMessage, langchain_core.messages.human.HumanMessage, langchain_core.messages.chat.ChatMessage, langchain_core.messages.system.SystemMessage, langchain_core.messages.function.FunctionMessage, langchain_core.messages.tool.ToolMessage]], 'agent_scratchpad': typing.List[typing.Union[langchain_core.messages.ai.AIMessage, langchain_core.messages.human.HumanMessage, langchain_core.messages.chat.ChatMessage, langchain_core.messages.system.SystemMessage, langchain_core.messages.function.FunctionMessage, langchain_core.messages.tool.ToolMessage]]}, partial_variables={'chat_history': [], 'agent_scratchpad': []}, messages=[SystemMessagePromptTemplate(prompt=PromptTemplate(input_variables=[], template='You are an assistant for question-answering tasks.')), MessagesPlaceholder(variable_name='chat_history', optional=True), HumanMessagePromptTemplate(prompt=PromptTemplate(input_variables=['input'], template='{input}')), MessagesPlaceholder(variable_name='agent_scratchpad', optional=True)])\n",
       "| RunnableBinding(bound=ChatGroq(client=<groq.resources.chat.completions.Completions object at 0x000001E1CC37A2F0>, async_client=<groq.resources.chat.completions.AsyncCompletions object at 0x000001E1CC37AD10>, groq_api_key=SecretStr('**********')), kwargs={'tools': [{'type': 'function', 'function': {'name': 'wikipedia', 'description': 'A wrapper around Wikipedia. Useful for when you need to answer general questions about people, places, companies, facts, historical events, or other subjects. Input should be a search query.', 'parameters': {'properties': {'__arg1': {'title': '__arg1', 'type': 'string'}}, 'required': ['__arg1'], 'type': 'object'}}}, {'type': 'function', 'function': {'name': 'arxiv', 'description': 'A wrapper around Arxiv.org Useful for when you need to answer questions about Physics, Mathematics, Computer Science, Quantitative Biology, Quantitative Finance, Statistics, Electrical Engineering, and Economics from scientific articles on arxiv.org. Input should be a search query.', 'parameters': {'type': 'object', 'properties': {'query': {'description': 'search query to look up', 'type': 'string'}}, 'required': ['query']}}}, {'type': 'function', 'function': {'name': 'Pokemon_search', 'description': 'Search for information about Pokemon-Scarlet-Violet. For any questions about Pokemon-Scarlet-Violet, you must use this tool!', 'parameters': {'type': 'object', 'properties': {'query': {'description': 'query to look up in retriever', 'type': 'string'}}, 'required': ['query']}}}]})\n",
       "| ToolsAgentOutputParser(), input_keys_arg=[], return_keys_arg=[], stream_runnable=True), tools=[WikipediaQueryRun(api_wrapper=WikipediaAPIWrapper(wiki_client=<module 'wikipedia' from 'c:\\\\Users\\\\York Yong\\\\OneDrive - Singapore Management University\\\\Desktop\\\\Langchain Project\\\\venv\\\\lib\\\\site-packages\\\\wikipedia\\\\__init__.py'>, top_k_results=1, lang='en', load_all_available_meta=False, doc_content_chars_max=200)), ArxivQueryRun(api_wrapper=ArxivAPIWrapper(arxiv_search=<class 'arxiv.Search'>, arxiv_exceptions=(<class 'arxiv.ArxivError'>, <class 'arxiv.UnexpectedEmptyPageError'>, <class 'arxiv.HTTPError'>), top_k_results=1, ARXIV_MAX_QUERY_LENGTH=300, continue_on_failure=False, load_max_docs=100, load_all_available_meta=False, doc_content_chars_max=200, arxiv_result=<class 'arxiv.Result'>)), Tool(name='Pokemon_search', description='Search for information about Pokemon-Scarlet-Violet. For any questions about Pokemon-Scarlet-Violet, you must use this tool!', args_schema=<class 'langchain_core.tools.RetrieverInput'>, func=functools.partial(<function _get_relevant_documents at 0x000001E117D06050>, retriever=VectorStoreRetriever(tags=['FAISS', 'OllamaEmbeddings'], vectorstore=<langchain_community.vectorstores.faiss.FAISS object at 0x000001E1C7C98640>), document_prompt=PromptTemplate(input_variables=['page_content'], template='{page_content}'), document_separator='\\n\\n'), coroutine=functools.partial(<function _aget_relevant_documents at 0x000001E117D06200>, retriever=VectorStoreRetriever(tags=['FAISS', 'OllamaEmbeddings'], vectorstore=<langchain_community.vectorstores.faiss.FAISS object at 0x000001E1C7C98640>), document_prompt=PromptTemplate(input_variables=['page_content'], template='{page_content}'), document_separator='\\n\\n'))])"
      ]
     },
     "execution_count": 193,
     "metadata": {},
     "output_type": "execute_result"
    }
   ],
   "source": [
    "## Agent Executer\n",
    "from langchain.agents import AgentExecutor\n",
    "agent_executor=AgentExecutor(agent=agent,tools=tools, verbose=True)\n",
    "agent_executor"
   ]
  },
  {
   "cell_type": "code",
   "execution_count": 194,
   "metadata": {},
   "outputs": [
    {
     "name": "stdout",
     "output_type": "stream",
     "text": [
      "\n",
      "\n",
      "\u001b[1m> Entering new AgentExecutor chain...\u001b[0m\n",
      "\u001b[32;1m\u001b[1;3m\n",
      "Invoking: `wikipedia` with `Pokemon Violet`\n",
      "\n",
      "\n",
      "\u001b[0m\u001b[36;1m\u001b[1;3mPage: Pokémon Scarlet and Violet\n",
      "Summary: Pokémon Scarlet and Pokémon Violet are 2022 role-playing video games developed by Game Freak and published by Nintendo and The Pokémon Company for the Nintend\u001b[0m\u001b[32;1m\u001b[1;3mPokémon Scarlet and Violet are 2022 role-playing video games developed by Game Freak and published by Nintendo and The Pokémon Company for the Nintendo Switch. These games are the main series entries for the ninth generation of Pokémon games and are the first fully open-world games in the series. The games follow the journey of the player character and their best friend as they explore the Paldea region, capturing and training Pokémon to become the region's champion.\n",
      "\n",
      "The games were released on November 18, 2022, and have received generally favorable reviews. Critics have praised the games for their expansive open world and the variety of gameplay options, while also criticizing the performance issues and technical hiccups present at launch.\n",
      "\n",
      "In conclusion, Pokémon Scarlet and Violet are the latest installments in the Pokémon franchise, introducing a new region, characters, and gameplay features. Despite some technical issues, the games have been well-received for their open-world exploration and diverse content.\u001b[0m\n",
      "\n",
      "\u001b[1m> Finished chain.\u001b[0m\n"
     ]
    },
    {
     "data": {
      "text/plain": [
       "{'input': 'Tell me about Pokemon Violet using wiki',\n",
       " 'output': \"Pokémon Scarlet and Violet are 2022 role-playing video games developed by Game Freak and published by Nintendo and The Pokémon Company for the Nintendo Switch. These games are the main series entries for the ninth generation of Pokémon games and are the first fully open-world games in the series. The games follow the journey of the player character and their best friend as they explore the Paldea region, capturing and training Pokémon to become the region's champion.\\n\\nThe games were released on November 18, 2022, and have received generally favorable reviews. Critics have praised the games for their expansive open world and the variety of gameplay options, while also criticizing the performance issues and technical hiccups present at launch.\\n\\nIn conclusion, Pokémon Scarlet and Violet are the latest installments in the Pokémon franchise, introducing a new region, characters, and gameplay features. Despite some technical issues, the games have been well-received for their open-world exploration and diverse content.\"}"
      ]
     },
     "execution_count": 194,
     "metadata": {},
     "output_type": "execute_result"
    }
   ],
   "source": [
    "agent_executor.invoke({\"input\":\"Tell me about Pokemon Violet using wiki\"})"
   ]
  },
  {
   "cell_type": "code",
   "execution_count": 197,
   "metadata": {},
   "outputs": [
    {
     "name": "stdout",
     "output_type": "stream",
     "text": [
      "\n",
      "\n",
      "\u001b[1m> Entering new AgentExecutor chain...\u001b[0m\n",
      "\u001b[32;1m\u001b[1;3mIn the game Pokemon Violet, there are 18 different types of Pokemon.\u001b[0m\n",
      "\n",
      "\u001b[1m> Finished chain.\u001b[0m\n"
     ]
    },
    {
     "data": {
      "text/plain": [
       "{'input': 'Check wiki for how many pokemon type are there in the game Pokemon Violet',\n",
       " 'output': 'In the game Pokemon Violet, there are 18 different types of Pokemon.'}"
      ]
     },
     "execution_count": 197,
     "metadata": {},
     "output_type": "execute_result"
    }
   ],
   "source": [
    "agent_executor.invoke({\"input\":\"Check wiki for how many pokemon type are there in the game Pokemon Violet\"})"
   ]
  },
  {
   "cell_type": "code",
   "execution_count": 198,
   "metadata": {},
   "outputs": [
    {
     "name": "stdout",
     "output_type": "stream",
     "text": [
      "\n",
      "\n",
      "\u001b[1m> Entering new AgentExecutor chain...\u001b[0m\n",
      "\u001b[32;1m\u001b[1;3mThe villains in the game Pokemon Violet are Team Star. They are a group of delinquent students who carry out various illegal activities, such as stealing, bullying, and causing trouble for the citizens of Paldea. They are led by the enigmatic and powerful Clavell. Team Star's goal is to make Paldea a place where only the strong survive, and they use their power and influence to achieve this end. They are one of the main antagonistic forces in the game, and the player will have several encounters with them throughout their journey.\u001b[0m\n",
      "\n",
      "\u001b[1m> Finished chain.\u001b[0m\n"
     ]
    },
    {
     "data": {
      "text/plain": [
       "{'input': 'who are the villians in the game Pokemon Violet',\n",
       " 'output': \"The villains in the game Pokemon Violet are Team Star. They are a group of delinquent students who carry out various illegal activities, such as stealing, bullying, and causing trouble for the citizens of Paldea. They are led by the enigmatic and powerful Clavell. Team Star's goal is to make Paldea a place where only the strong survive, and they use their power and influence to achieve this end. They are one of the main antagonistic forces in the game, and the player will have several encounters with them throughout their journey.\"}"
      ]
     },
     "execution_count": 198,
     "metadata": {},
     "output_type": "execute_result"
    }
   ],
   "source": [
    "agent_executor.invoke({\"input\":\"who are the villians in the game Pokemon Violet\"})"
   ]
  },
  {
   "cell_type": "code",
   "execution_count": 202,
   "metadata": {},
   "outputs": [
    {
     "name": "stdout",
     "output_type": "stream",
     "text": [
      "\n",
      "\n",
      "\u001b[1m> Entering new AgentExecutor chain...\u001b[0m\n",
      "\u001b[32;1m\u001b[1;3m\n",
      "Invoking: `Pokemon_search` with `{'query': 'where to start Pokemon Violet'}`\n",
      "\n",
      "\n",
      "\u001b[0m\u001b[38;5;200m\u001b[1;3mThe new Paradox Legendaries: Walking Wake, Iron Leaves, Raging Bolt, Iron Crown, Gouging Fire and Iron Boulder, as well as the new Evolution Pokemon Hydrapple and Archaludon are all confirmed to be legal in Regulation F!\n",
      "Ranked Battle Regulation F (Season 13): Rules and Banned Pokemon\n",
      "Pokemon Scarlet and Violet: The Indigo Disk DLCThe Indigo Disk DLC\n",
      "The Indigo Disk DLC Front Page\n",
      "Epilogue Guides and Walkthroughs\n",
      "\n",
      "Regulation G of Ranked Battle has been announced and will run from May 1, 2024 until August 31, 2024.\n",
      "The Regulation G ruleset allows for all Pokemon in the Paldea Pokedex, Paradox Pokemon, the four Treasures of Ruin, Pokemon from Pokemon HOME, Pokemon from the Kitakami Pokedex and Indigo Disk Pokedex. \n",
      "This new ruleset now allows for Legendary Pokemon into the mix, which should mix the meta up!\n",
      "Ranked Battle Regulation G (Series 7): Rules and Banned Pokemon\n",
      "YOASOBI Pawmot Mystery Gift\n",
      "\n",
      "To commemorate Shin Yeo-Meong's victory in the 2023 Senior Division Trainers Cup last June, a special Flutter Mane will be distributed via code on May 5, 2024 during the South Korea's Trainers Cup Final Round stream.\n",
      "The distribution will begin on the same day that the code will be released during South Korea's 2024 Trainers Cup, and can be claimed until May 7, 2024.\n",
      "Shin Yeo-Myeong's Flutter Mane Mystery Gift Code\n",
      "Item Printer RNG has Been Broken!\n",
      "\n",
      "Pokemon Scarlet and Violet (SV) are the newest Gen 9 Pokemon games for the Nintendo Switch! Learn about everything from the best starter and team, walkthroughs for each storyline, to the complete Paldea Pokedex, with all the new Pokemon!\u001b[0m\u001b[32;1m\u001b[1;3mBased on the information provided by the tool, you can start playing Pokemon Violet in Regulation G of Ranked Battle which will run from May 1, 2024 until August 31, 2024. In this ruleset, you will be able to use all Pokemon in the Paldea Pokedex, Paradox Pokemon, the four Treasures of Ruin, Pokemon from Pokemon HOME, Pokemon from the Kitakami Pokedex and Indigo Disk Pokedex, including Legendary Pokemon.\n",
      "\n",
      "Therefore, you can start playing Pokemon Violet and participate in the Ranked Battle Regulation G (Series 7) which allows for a wider variety of Pokemon to use, making the meta more diverse and exciting!\u001b[0m\n",
      "\n",
      "\u001b[1m> Finished chain.\u001b[0m\n"
     ]
    },
    {
     "data": {
      "text/plain": [
       "{'input': 'check pokemon_search to tell me where I can start my pokemon violet game',\n",
       " 'output': 'Based on the information provided by the tool, you can start playing Pokemon Violet in Regulation G of Ranked Battle which will run from May 1, 2024 until August 31, 2024. In this ruleset, you will be able to use all Pokemon in the Paldea Pokedex, Paradox Pokemon, the four Treasures of Ruin, Pokemon from Pokemon HOME, Pokemon from the Kitakami Pokedex and Indigo Disk Pokedex, including Legendary Pokemon.\\n\\nTherefore, you can start playing Pokemon Violet and participate in the Ranked Battle Regulation G (Series 7) which allows for a wider variety of Pokemon to use, making the meta more diverse and exciting!'}"
      ]
     },
     "execution_count": 202,
     "metadata": {},
     "output_type": "execute_result"
    }
   ],
   "source": [
    "agent_executor.invoke({\"input\":\"check pokemon_search to tell me where I can start my pokemon violet game\"})"
   ]
  },
  {
   "cell_type": "code",
   "execution_count": null,
   "metadata": {},
   "outputs": [],
   "source": []
  }
 ],
 "metadata": {
  "kernelspec": {
   "display_name": "Python 3",
   "language": "python",
   "name": "python3"
  },
  "language_info": {
   "codemirror_mode": {
    "name": "ipython",
    "version": 3
   },
   "file_extension": ".py",
   "mimetype": "text/x-python",
   "name": "python",
   "nbconvert_exporter": "python",
   "pygments_lexer": "ipython3",
   "version": "3.10.0"
  }
 },
 "nbformat": 4,
 "nbformat_minor": 2
}
